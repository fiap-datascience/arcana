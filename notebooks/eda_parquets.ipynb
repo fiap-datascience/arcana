{
 "cells": [
  {
   "cell_type": "code",
   "execution_count": 1,
   "id": "eb5a847a",
   "metadata": {},
   "outputs": [],
   "source": [
    "import os\n",
    "import re\n",
    "import boto3\n",
    "import pandas as pd\n",
    "from io import BytesIO\n",
    "from acessar_dados_curated import carregar_parquets_em_variaveis"
   ]
  },
  {
   "cell_type": "code",
   "execution_count": null,
   "id": "cea177e0",
   "metadata": {},
   "outputs": [],
   "source": []
  },
  {
   "cell_type": "code",
   "execution_count": 2,
   "id": "e1b953c5",
   "metadata": {},
   "outputs": [
    {
     "name": "stdout",
     "output_type": "stream",
     "text": [
      "clientes_desde ← silver/clientes_desde.parquet  | 10615 linhas\n",
      "contratacoes_ultimos_12_meses ← silver/contratacoes_ultimos_12_meses.parquet  | 4314 linhas\n",
      "dados_clientes ← silver/dados_clientes.parquet  | 238597 linhas\n",
      "historico ← silver/historico.parquet  | 22740 linhas\n",
      "mrr ← silver/mrr.parquet  | 7309 linhas\n",
      "nps_relacional ← silver/nps_relacional.parquet  | 13942 linhas\n",
      "nps_transacional_aquisicao ← silver/nps_transacional_aquisicao.parquet  | 175 linhas\n",
      "nps_transacional_implantacao ← silver/nps_transacional_implantacao.parquet  | 662 linhas\n",
      "nps_transacional_onboarding ← silver/nps_transacional_onboarding.parquet  | 208 linhas\n",
      "nps_transacional_produto ← silver/nps_transacional_produto.parquet  | 113201 linhas\n",
      "nps_transacional_suporte ← silver/nps_transacional_suporte.parquet  | 74794 linhas\n",
      "telemetria_consolidado ← silver/telemetria_consolidado.parquet  | 30804197 linhas\n",
      "tickets ← silver/tickets.parquet  | 976063 linhas\n"
     ]
    },
    {
     "data": {
      "text/plain": [
       "{'clientes_desde': 's3://arcana-fiap/silver/clientes_desde.parquet',\n",
       " 'contratacoes_ultimos_12_meses': 's3://arcana-fiap/silver/contratacoes_ultimos_12_meses.parquet',\n",
       " 'dados_clientes': 's3://arcana-fiap/silver/dados_clientes.parquet',\n",
       " 'historico': 's3://arcana-fiap/silver/historico.parquet',\n",
       " 'mrr': 's3://arcana-fiap/silver/mrr.parquet',\n",
       " 'nps_relacional': 's3://arcana-fiap/silver/nps_relacional.parquet',\n",
       " 'nps_transacional_aquisicao': 's3://arcana-fiap/silver/nps_transacional_aquisicao.parquet',\n",
       " 'nps_transacional_implantacao': 's3://arcana-fiap/silver/nps_transacional_implantacao.parquet',\n",
       " 'nps_transacional_onboarding': 's3://arcana-fiap/silver/nps_transacional_onboarding.parquet',\n",
       " 'nps_transacional_produto': 's3://arcana-fiap/silver/nps_transacional_produto.parquet',\n",
       " 'nps_transacional_suporte': 's3://arcana-fiap/silver/nps_transacional_suporte.parquet',\n",
       " 'telemetria_consolidado': 's3://arcana-fiap/silver/telemetria_consolidado.parquet',\n",
       " 'tickets': 's3://arcana-fiap/silver/tickets.parquet'}"
      ]
     },
     "execution_count": 2,
     "metadata": {},
     "output_type": "execute_result"
    }
   ],
   "source": [
    "carregar_parquets_em_variaveis(prefix=\"silver/\")"
   ]
  },
  {
   "cell_type": "code",
   "execution_count": 3,
   "id": "237bbb4e",
   "metadata": {},
   "outputs": [
    {
     "ename": "NameError",
     "evalue": "name 'clientes_desde' is not defined",
     "output_type": "error",
     "traceback": [
      "\u001b[1;31m---------------------------------------------------------------------------\u001b[0m",
      "\u001b[1;31mNameError\u001b[0m                                 Traceback (most recent call last)",
      "Cell \u001b[1;32mIn[3], line 1\u001b[0m\n\u001b[1;32m----> 1\u001b[0m df_clientes_desde \u001b[38;5;241m=\u001b[39m \u001b[43mclientes_desde\u001b[49m\n\u001b[0;32m      2\u001b[0m df_contratacoes_ultimos_12_meses \u001b[38;5;241m=\u001b[39m contratacoes_ultimos_12_meses\n\u001b[0;32m      3\u001b[0m df_dados_clientes \u001b[38;5;241m=\u001b[39m dados_clientes\n",
      "\u001b[1;31mNameError\u001b[0m: name 'clientes_desde' is not defined"
     ]
    }
   ],
   "source": [
    "df_clientes_desde = clientes_desde\n",
    "df_contratacoes_ultimos_12_meses = contratacoes_ultimos_12_meses\n",
    "df_dados_clientes = dados_clientes\n",
    "df_historico = historico\n",
    "df_mrr = mrr\n",
    "df_nps_relacional = nps_relacional\n",
    "df_nps_transacional_aquisicao = nps_transacional_aquisicao\n",
    "df_nps_transacional_implantacao = nps_transacional_implantacao\n",
    "df_nps_transacional_onboarding = nps_transacional_onboarding\n",
    "df_nps_transacional_produto = nps_transacional_produto\n",
    "df_nps_transacional_suporte = nps_transacional_suporte\n",
    "df_telemetria_consolidado = telemetria_consolidado\n",
    "df_tickets = tickets"
   ]
  },
  {
   "cell_type": "code",
   "execution_count": 20,
   "id": "f5db9c64",
   "metadata": {},
   "outputs": [
    {
     "data": {
      "text/html": [
       "<div>\n",
       "<style scoped>\n",
       "    .dataframe tbody tr th:only-of-type {\n",
       "        vertical-align: middle;\n",
       "    }\n",
       "\n",
       "    .dataframe tbody tr th {\n",
       "        vertical-align: top;\n",
       "    }\n",
       "\n",
       "    .dataframe thead th {\n",
       "        text-align: right;\n",
       "    }\n",
       "</style>\n",
       "<table border=\"1\" class=\"dataframe\">\n",
       "  <thead>\n",
       "    <tr style=\"text-align: right;\">\n",
       "      <th></th>\n",
       "      <th>COD_CLIENTE</th>\n",
       "      <th>NOME_GRUPO</th>\n",
       "      <th>TIPO_TICKET</th>\n",
       "      <th>STATUS_TICKET</th>\n",
       "      <th>DATA_CRIACAO</th>\n",
       "      <th>DATA_ATUALIZACAO</th>\n",
       "      <th>BK_TICKET</th>\n",
       "      <th>PRIORIDADE_TICKET</th>\n",
       "    </tr>\n",
       "  </thead>\n",
       "  <tbody>\n",
       "    <tr>\n",
       "      <th>0</th>\n",
       "      <td>TFCPWG</td>\n",
       "      <td>Fábrica Consinco</td>\n",
       "      <td>task</td>\n",
       "      <td>closed</td>\n",
       "      <td>2024-11-12</td>\n",
       "      <td>2025-01-02</td>\n",
       "      <td>21787048</td>\n",
       "      <td>low</td>\n",
       "    </tr>\n",
       "    <tr>\n",
       "      <th>1</th>\n",
       "      <td>TB2434</td>\n",
       "      <td>PC - Financeiro</td>\n",
       "      <td>question</td>\n",
       "      <td>closed</td>\n",
       "      <td>2024-05-07</td>\n",
       "      <td>2024-05-16</td>\n",
       "      <td>20066662</td>\n",
       "      <td>normal</td>\n",
       "    </tr>\n",
       "    <tr>\n",
       "      <th>2</th>\n",
       "      <td>TFBYNF</td>\n",
       "      <td>TOTVS Chef Corporativo</td>\n",
       "      <td>question</td>\n",
       "      <td>closed</td>\n",
       "      <td>2024-03-19</td>\n",
       "      <td>2024-04-03</td>\n",
       "      <td>19662250</td>\n",
       "      <td>low</td>\n",
       "    </tr>\n",
       "    <tr>\n",
       "      <th>3</th>\n",
       "      <td>TFCNAD</td>\n",
       "      <td>PC - Financeiro</td>\n",
       "      <td>question</td>\n",
       "      <td>closed</td>\n",
       "      <td>2024-06-25</td>\n",
       "      <td>2024-07-04</td>\n",
       "      <td>20517470</td>\n",
       "      <td>normal</td>\n",
       "    </tr>\n",
       "    <tr>\n",
       "      <th>4</th>\n",
       "      <td>TFDJLF</td>\n",
       "      <td>AGT CLOUD RM STD</td>\n",
       "      <td>question</td>\n",
       "      <td>closed</td>\n",
       "      <td>2024-02-02</td>\n",
       "      <td>2024-02-06</td>\n",
       "      <td>19222316</td>\n",
       "      <td>low</td>\n",
       "    </tr>\n",
       "  </tbody>\n",
       "</table>\n",
       "</div>"
      ],
      "text/plain": [
       "  COD_CLIENTE              NOME_GRUPO TIPO_TICKET STATUS_TICKET DATA_CRIACAO  \\\n",
       "0      TFCPWG        Fábrica Consinco        task        closed   2024-11-12   \n",
       "1      TB2434         PC - Financeiro    question        closed   2024-05-07   \n",
       "2      TFBYNF  TOTVS Chef Corporativo    question        closed   2024-03-19   \n",
       "3      TFCNAD         PC - Financeiro    question        closed   2024-06-25   \n",
       "4      TFDJLF        AGT CLOUD RM STD    question        closed   2024-02-02   \n",
       "\n",
       "  DATA_ATUALIZACAO  BK_TICKET PRIORIDADE_TICKET  \n",
       "0       2025-01-02   21787048               low  \n",
       "1       2024-05-16   20066662            normal  \n",
       "2       2024-04-03   19662250               low  \n",
       "3       2024-07-04   20517470            normal  \n",
       "4       2024-02-06   19222316               low  "
      ]
     },
     "execution_count": 20,
     "metadata": {},
     "output_type": "execute_result"
    }
   ],
   "source": [
    "df_tickets.head()"
   ]
  }
 ],
 "metadata": {
  "kernelspec": {
   "display_name": "Python 3",
   "language": "python",
   "name": "python3"
  },
  "language_info": {
   "codemirror_mode": {
    "name": "ipython",
    "version": 3
   },
   "file_extension": ".py",
   "mimetype": "text/x-python",
   "name": "python",
   "nbconvert_exporter": "python",
   "pygments_lexer": "ipython3",
   "version": "3.10.11"
  }
 },
 "nbformat": 4,
 "nbformat_minor": 5
}
