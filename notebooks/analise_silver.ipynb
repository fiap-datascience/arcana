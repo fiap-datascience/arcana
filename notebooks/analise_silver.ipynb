{
 "cells": [
  {
   "cell_type": "markdown",
   "id": "4d19216d",
   "metadata": {},
   "source": [
    "### Importando as bibliotecas necessárias"
   ]
  },
  {
   "cell_type": "code",
   "execution_count": 1,
   "id": "bf057634",
   "metadata": {},
   "outputs": [],
   "source": [
    "import os\n",
    "import re\n",
    "import boto3\n",
    "import pandas as pd\n",
    "from io import BytesIO\n",
    "import numpy as np\n",
    "import matplotlib.pyplot as plt\n",
    "import seaborn as sns\n",
    "from acessar_dados_curated import carregar_parquets_em_variaveis"
   ]
  },
  {
   "cell_type": "markdown",
   "id": "bddf2ab2",
   "metadata": {},
   "source": [
    "### Carregando os dados da camada Silver em DataFrames"
   ]
  },
  {
   "cell_type": "code",
   "execution_count": 5,
   "id": "464f6bb8",
   "metadata": {},
   "outputs": [
    {
     "name": "stdout",
     "output_type": "stream",
     "text": [
      "clientes_desde ← silver/clientes_desde.parquet  | 10615 linhas\n",
      "contratacoes_ultimos_12_meses ← silver/contratacoes_ultimos_12_meses.parquet  | 4314 linhas\n",
      "dados_clientes ← silver/dados_clientes.parquet  | 238597 linhas\n",
      "historico ← silver/historico.parquet  | 22740 linhas\n",
      "mrr ← silver/mrr.parquet  | 7309 linhas\n",
      "nps_relacional ← silver/nps_relacional.parquet  | 13942 linhas\n",
      "nps_transacional_aquisicao ← silver/nps_transacional_aquisicao.parquet  | 175 linhas\n",
      "nps_transacional_implantacao ← silver/nps_transacional_implantacao.parquet  | 662 linhas\n",
      "nps_transacional_onboarding ← silver/nps_transacional_onboarding.parquet  | 208 linhas\n",
      "nps_transacional_produto ← silver/nps_transacional_produto.parquet  | 113201 linhas\n",
      "nps_transacional_suporte ← silver/nps_transacional_suporte.parquet  | 74794 linhas\n",
      "telemetria_consolidado ← silver/telemetria_consolidado.parquet  | 30804197 linhas\n",
      "tickets ← silver/tickets.parquet  | 976063 linhas\n"
     ]
    },
    {
     "data": {
      "text/plain": [
       "{'clientes_desde': 's3://arcana-fiap/silver/clientes_desde.parquet',\n",
       " 'contratacoes_ultimos_12_meses': 's3://arcana-fiap/silver/contratacoes_ultimos_12_meses.parquet',\n",
       " 'dados_clientes': 's3://arcana-fiap/silver/dados_clientes.parquet',\n",
       " 'historico': 's3://arcana-fiap/silver/historico.parquet',\n",
       " 'mrr': 's3://arcana-fiap/silver/mrr.parquet',\n",
       " 'nps_relacional': 's3://arcana-fiap/silver/nps_relacional.parquet',\n",
       " 'nps_transacional_aquisicao': 's3://arcana-fiap/silver/nps_transacional_aquisicao.parquet',\n",
       " 'nps_transacional_implantacao': 's3://arcana-fiap/silver/nps_transacional_implantacao.parquet',\n",
       " 'nps_transacional_onboarding': 's3://arcana-fiap/silver/nps_transacional_onboarding.parquet',\n",
       " 'nps_transacional_produto': 's3://arcana-fiap/silver/nps_transacional_produto.parquet',\n",
       " 'nps_transacional_suporte': 's3://arcana-fiap/silver/nps_transacional_suporte.parquet',\n",
       " 'telemetria_consolidado': 's3://arcana-fiap/silver/telemetria_consolidado.parquet',\n",
       " 'tickets': 's3://arcana-fiap/silver/tickets.parquet'}"
      ]
     },
     "execution_count": 5,
     "metadata": {},
     "output_type": "execute_result"
    }
   ],
   "source": [
    "carregar_parquets_em_variaveis(destino=globals())"
   ]
  },
  {
   "cell_type": "code",
   "execution_count": 7,
   "id": "847d2d9e",
   "metadata": {},
   "outputs": [],
   "source": [
    "df_clientes_desde = clientes_desde\n",
    "df_contratacoes_ultimos_12_meses = contratacoes_ultimos_12_meses\n",
    "df_dados_clientes = dados_clientes\n",
    "df_historico = historico\n",
    "df_mrr = mrr\n",
    "df_nps_relacional = nps_relacional\n",
    "df_nps_transacional_aquisicao = nps_transacional_aquisicao\n",
    "df_nps_transacional_implantacao = nps_transacional_implantacao\n",
    "df_nps_transacional_onboarding = nps_transacional_onboarding\n",
    "df_nps_transacional_produto = nps_transacional_produto\n",
    "df_nps_transacional_suporte = nps_transacional_suporte\n",
    "df_telemetria_consolidado = telemetria_consolidado\n",
    "df_tickets = tickets"
   ]
  }
 ],
 "metadata": {
  "kernelspec": {
   "display_name": "Python 3",
   "language": "python",
   "name": "python3"
  },
  "language_info": {
   "codemirror_mode": {
    "name": "ipython",
    "version": 3
   },
   "file_extension": ".py",
   "mimetype": "text/x-python",
   "name": "python",
   "nbconvert_exporter": "python",
   "pygments_lexer": "ipython3",
   "version": "3.10.11"
  }
 },
 "nbformat": 4,
 "nbformat_minor": 5
}
